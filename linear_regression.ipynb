{
 "cells": [
  {
   "cell_type": "code",
   "execution_count": 1,
   "id": "748cf632",
   "metadata": {},
   "outputs": [],
   "source": [
    "import pandas as pd\n",
    "import numpy as np\n",
    "from glob import glob\n",
    "from sklearn.model_selection import train_test_split\n",
    "from sklearn.linear_model import LinearRegression\n",
    "import math\n",
    "from sklearn.metrics import mean_squared_error\n",
    "from sklearn.metrics import r2_score"
   ]
  },
  {
   "cell_type": "code",
   "execution_count": 2,
   "id": "c208fda5",
   "metadata": {},
   "outputs": [
    {
     "name": "stdout",
     "output_type": "stream",
     "text": [
      "      日照計\n",
      "2745  0.0\n",
      "2746  0.0\n",
      "2747  0.0\n",
      "2748  0.0\n",
      "2749  0.0\n"
     ]
    }
   ],
   "source": [
    "files = glob('內湖西段/日照/內湖西段-三期*.csv')\n",
    "#print(files)\n",
    "df = pd.concat(\n",
    "    (pd.read_csv(file, usecols=['日照計'], dtype={'日照計':float}) for file in files), ignore_index=True)\n",
    "df=df.dropna()\n",
    "print(df.tail())"
   ]
  },
  {
   "cell_type": "code",
   "execution_count": 3,
   "id": "486be0d3",
   "metadata": {},
   "outputs": [
    {
     "name": "stdout",
     "output_type": "stream",
     "text": [
      "         溫度計\n",
      "2745  26.213\n",
      "2746  26.233\n",
      "2747  25.950\n",
      "2748  25.763\n",
      "2749  25.617\n"
     ]
    }
   ],
   "source": [
    "files = glob('內湖西段/溫度/內湖西段-三期*.csv')\n",
    "#print(files)\n",
    "df2 = pd.concat(\n",
    "    (pd.read_csv(file, usecols=['溫度計'], dtype={'溫度計':float}) for file in files), ignore_index=True)\n",
    "\n",
    "df2=df2.dropna()\n",
    "print(df2.tail())"
   ]
  },
  {
   "cell_type": "code",
   "execution_count": 4,
   "id": "48161c86",
   "metadata": {},
   "outputs": [
    {
     "name": "stdout",
     "output_type": "stream",
     "text": [
      "      三期_17-18:17:805:mppt1_power:315  三期_17-18:17:805:mppt2_power:315  \\\n",
      "2745                              0.0                              0.0   \n",
      "2746                              0.0                              0.0   \n",
      "2747                              0.0                              0.0   \n",
      "2748                              0.0                              0.0   \n",
      "2749                              0.0                              0.0   \n",
      "\n",
      "      三期_17-18:17:805:mppt3_power:315  三期_17-18:17:805:mppt4_power:315  \\\n",
      "2745                              0.0                              0.0   \n",
      "2746                              0.0                              0.0   \n",
      "2747                              0.0                              0.0   \n",
      "2748                              0.0                              0.0   \n",
      "2749                              0.0                              0.0   \n",
      "\n",
      "      三期_17-18:17:805:mppt5_power:315  三期_17-18:17:805:mppt6_power:315  \\\n",
      "2745                              0.0                              0.0   \n",
      "2746                              0.0                              0.0   \n",
      "2747                              0.0                              0.0   \n",
      "2748                              0.0                              0.0   \n",
      "2749                              0.0                              0.0   \n",
      "\n",
      "      三期_17-18:18:806:mppt1_power:135  三期_17-18:18:806:mppt2_power:135  \\\n",
      "2745                              0.0                              0.0   \n",
      "2746                              0.0                              0.0   \n",
      "2747                              0.0                              0.0   \n",
      "2748                              0.0                              0.0   \n",
      "2749                              0.0                              0.0   \n",
      "\n",
      "      三期_17-18:18:806:mppt3_power:135  三期_17-18:18:806:mppt4_power:135  ...  \\\n",
      "2745                              0.0                              0.0  ...   \n",
      "2746                              0.0                              0.0  ...   \n",
      "2747                              0.0                              0.0  ...   \n",
      "2748                              0.0                              0.0  ...   \n",
      "2749                              0.0                              0.0  ...   \n",
      "\n",
      "      三期_19-20:22:810:mppt3_power:135  三期_19-20:22:810:mppt4_power:315  \\\n",
      "2745                              0.0                              0.0   \n",
      "2746                              0.0                              0.0   \n",
      "2747                              0.0                              0.0   \n",
      "2748                              0.0                              0.0   \n",
      "2749                              0.0                              0.0   \n",
      "\n",
      "      三期_19-20:22:810:mppt5_power:315  三期_19-20:22:810:mppt6_power:315  \\\n",
      "2745                              0.0                              0.0   \n",
      "2746                              0.0                              0.0   \n",
      "2747                              0.0                              0.0   \n",
      "2748                              0.0                              0.0   \n",
      "2749                              0.0                              0.0   \n",
      "\n",
      "      三期_19-20:23:811:mppt1_power:135  三期_19-20:23:811:mppt2_power:135  \\\n",
      "2745                              0.0                              0.0   \n",
      "2746                              0.0                              0.0   \n",
      "2747                              0.0                              0.0   \n",
      "2748                              0.0                              0.0   \n",
      "2749                              0.0                              0.0   \n",
      "\n",
      "      三期_19-20:23:811:mppt3_power:315  三期_19-20:23:811:mppt4_power:315  \\\n",
      "2745                              0.0                              0.0   \n",
      "2746                              0.0                              0.0   \n",
      "2747                              0.0                              0.0   \n",
      "2748                              0.0                              0.0   \n",
      "2749                              0.0                              0.0   \n",
      "\n",
      "      三期_19-20:23:811:mppt5_power:135  三期_19-20:23:811:mppt6_power:315  \n",
      "2745                              0.0                              0.0  \n",
      "2746                              0.0                              0.0  \n",
      "2747                              0.0                              0.0  \n",
      "2748                              0.0                              0.0  \n",
      "2749                              0.0                              0.0  \n",
      "\n",
      "[5 rows x 42 columns]\n"
     ]
    }
   ],
   "source": [
    "files = glob('內湖西段/直流功率/內湖西段-三期*.csv')\n",
    "#print(files)\n",
    "\n",
    "df3 = pd.concat(\n",
    "    (pd.read_csv(file) for file in files), ignore_index=True)\n",
    "\n",
    "df3=df3.dropna(axis=0)\n",
    "print(df3.tail())"
   ]
  },
  {
   "cell_type": "code",
   "execution_count": 5,
   "id": "021aad17",
   "metadata": {},
   "outputs": [],
   "source": [
    "X=pd.concat([df,df2],axis=1)\n",
    "Y=df3"
   ]
  },
  {
   "cell_type": "code",
   "execution_count": 6,
   "id": "0e5d8e10",
   "metadata": {},
   "outputs": [
    {
     "name": "stdout",
     "output_type": "stream",
     "text": [
      "(1925, 2) (825, 2) (1925, 42) (825, 42)\n"
     ]
    }
   ],
   "source": [
    "X_train, X_test, Y_train, Y_test = train_test_split(X, Y, test_size=0.3,shuffle=False)\n",
    "\n",
    "print(X_train.shape,  X_test.shape, Y_train.shape,  Y_test.shape)"
   ]
  },
  {
   "cell_type": "code",
   "execution_count": 7,
   "id": "592bb0a7",
   "metadata": {},
   "outputs": [],
   "source": [
    "model=LinearRegression()\n",
    "model.fit(X_train,Y_train)\n",
    "predictions = model.predict(X_test)"
   ]
  },
  {
   "cell_type": "code",
   "execution_count": 8,
   "id": "3e7f9c35",
   "metadata": {},
   "outputs": [
    {
     "name": "stdout",
     "output_type": "stream",
     "text": [
      "[[0.62943064 0.50590212 0.46514792 0.61447341 0.65757551 0.65417793\n",
      "  0.66439811 0.6612847  0.66516505 0.67339831 0.66299268 0.6438233\n",
      "  0.6740838  0.6186615  0.65268015 0.67940501 0.66999168 0.6713184\n",
      "  0.68322742 0.67646209 0.63366778 0.61498956 0.63602826 0.58180099\n",
      "  0.67922589 0.67579241 0.68225253 0.68078964 0.64573264 0.64000243\n",
      "  0.66435443 0.66344099 0.67092831 0.67916291 0.62587259 0.61229172\n",
      "  0.6730997  0.63764445 0.67300036 0.61415055 0.61722337 0.64130747]]\n",
      "      三期_17-18:17:805:mppt1_power:315  三期_17-18:17:805:mppt2_power:315  \\\n",
      "2699                             0.69                             0.58   \n",
      "\n",
      "      三期_17-18:17:805:mppt3_power:315  三期_17-18:17:805:mppt4_power:315  \\\n",
      "2699                             0.41                             0.64   \n",
      "\n",
      "      三期_17-18:17:805:mppt5_power:315  三期_17-18:17:805:mppt6_power:315  \\\n",
      "2699                             0.64                             0.66   \n",
      "\n",
      "      三期_17-18:18:806:mppt1_power:135  三期_17-18:18:806:mppt2_power:135  \\\n",
      "2699                             0.77                             0.77   \n",
      "\n",
      "      三期_17-18:18:806:mppt3_power:135  三期_17-18:18:806:mppt4_power:135  ...  \\\n",
      "2699                             0.77                             0.76  ...   \n",
      "\n",
      "      三期_19-20:22:810:mppt3_power:135  三期_19-20:22:810:mppt4_power:315  \\\n",
      "2699                             0.71                             0.71   \n",
      "\n",
      "      三期_19-20:22:810:mppt5_power:315  三期_19-20:22:810:mppt6_power:315  \\\n",
      "2699                             0.74                              0.7   \n",
      "\n",
      "      三期_19-20:23:811:mppt1_power:135  三期_19-20:23:811:mppt2_power:135  \\\n",
      "2699                             0.75                             0.75   \n",
      "\n",
      "      三期_19-20:23:811:mppt3_power:315  三期_19-20:23:811:mppt4_power:315  \\\n",
      "2699                             0.75                             0.76   \n",
      "\n",
      "      三期_19-20:23:811:mppt5_power:135  三期_19-20:23:811:mppt6_power:315  \n",
      "2699                             0.77                             0.77  \n",
      "\n",
      "[1 rows x 42 columns]\n"
     ]
    }
   ],
   "source": [
    "print(predictions[774:775,:])\n",
    "print(Y_test[774:775])"
   ]
  },
  {
   "cell_type": "code",
   "execution_count": 9,
   "id": "b555a731",
   "metadata": {},
   "outputs": [
    {
     "name": "stdout",
     "output_type": "stream",
     "text": [
      "RMSE= 0.04845271533950085\n"
     ]
    }
   ],
   "source": [
    "import math\n",
    "from sklearn.metrics import mean_squared_error\n",
    "RMSE = math.sqrt(mean_squared_error(Y_test, predictions))\n",
    "print(\"RMSE=\",RMSE)"
   ]
  },
  {
   "cell_type": "code",
   "execution_count": 10,
   "id": "99cc3eec",
   "metadata": {},
   "outputs": [
    {
     "name": "stdout",
     "output_type": "stream",
     "text": [
      "r2= 0.9697123821884981\n"
     ]
    }
   ],
   "source": [
    "r2=r2_score(Y_test,predictions)\n",
    "print(\"r2=\",r2)"
   ]
  },
  {
   "cell_type": "code",
   "execution_count": 54,
   "id": "7903b031",
   "metadata": {},
   "outputs": [
    {
     "data": {
      "text/plain": [
       "['linear regression_all.pkl']"
      ]
     },
     "execution_count": 54,
     "metadata": {},
     "output_type": "execute_result"
    }
   ],
   "source": [
    "import joblib\n",
    "joblib.dump(model,'linear regression_all.pkl')"
   ]
  },
  {
   "cell_type": "code",
   "execution_count": null,
   "id": "39cf4321",
   "metadata": {},
   "outputs": [],
   "source": []
  }
 ],
 "metadata": {
  "kernelspec": {
   "display_name": "Python 3 (ipykernel)",
   "language": "python",
   "name": "python3"
  },
  "language_info": {
   "codemirror_mode": {
    "name": "ipython",
    "version": 3
   },
   "file_extension": ".py",
   "mimetype": "text/x-python",
   "name": "python",
   "nbconvert_exporter": "python",
   "pygments_lexer": "ipython3",
   "version": "3.7.13"
  }
 },
 "nbformat": 4,
 "nbformat_minor": 5
}
